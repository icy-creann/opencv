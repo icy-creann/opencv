{
 "cells": [
  {
   "cell_type": "markdown",
   "id": "a7d94ba1",
   "metadata": {},
   "source": [
    "0.导入相关的库"
   ]
  },
  {
   "cell_type": "code",
   "execution_count": 1,
   "id": "d4f56be6",
   "metadata": {},
   "outputs": [],
   "source": [
    "import cv2                             #导入opencv库,用于读取、显示和处理图像\n",
    "import numpy as np                     #导入numpy库,用于进行数组操作\n",
    "import matplotlib.pyplot as plt        #导入matplotlib.pyplot库,用于绘制图像,实现数据可视化"
   ]
  },
  {
   "cell_type": "markdown",
   "id": "bb4c0dec",
   "metadata": {},
   "source": [
    "1.图像处理基础"
   ]
  },
  {
   "cell_type": "code",
   "execution_count": 2,
   "id": "b08cb748",
   "metadata": {},
   "outputs": [
    {
     "data": {
      "text/plain": [
       "True"
      ]
     },
     "execution_count": 2,
     "metadata": {},
     "output_type": "execute_result"
    }
   ],
   "source": [
    "img = cv2.imread('lena.jpg')           #读取图像,参数为图像路径,返回值为图像数组\n",
    "cv2.imshow('image', img)               #显示图像,参数为窗口名称,图像数组\n",
    "cv2.waitKey(0)                         #等待用户按键,参数为等待时间,单位为毫秒,0表示无限等待\n",
    "cv2.destroyAllWindows()                #关闭所有窗口\n",
    "cv2.imwrite('lena.png', img)           #将图像保存到文件,参数为文件名,图像数组"
   ]
  },
  {
   "cell_type": "markdown",
   "id": "eda07e89",
   "metadata": {},
   "source": [
    "2.图像基本操作"
   ]
  },
  {
   "cell_type": "markdown",
   "id": "7ee0aada",
   "metadata": {},
   "source": [
    "获取图像像素值、提取图像ROI"
   ]
  },
  {
   "cell_type": "code",
   "execution_count": null,
   "id": "8126350d",
   "metadata": {},
   "outputs": [
    {
     "name": "stdout",
     "output_type": "stream",
     "text": [
      "img_val: [ 74  60 162]\n"
     ]
    }
   ],
   "source": [
    "img_val = img[100, 100]                #获取图像中(100,100)像素的颜色值,返回值为BGR格式的元组\n",
    "print('img_val:', img_val)\n",
    "\n",
    "img_roi = img[100:500, 100:500]        #获取图像中(100,100)到(200,200)的矩形区域,返回值为图像数组\n",
    "cv2.imshow('img_roi', img_roi)         #显示图像,参数为窗口名称,图像数组\n",
    "\n",
    "\n",
    "cv2.waitKey(0)                         #等待用户按键,参数为等待时间,单位为毫秒,0表示无限等待\n",
    "cv2.destroyAllWindows()                #关闭所有窗口"
   ]
  },
  {
   "cell_type": "markdown",
   "id": "4e8c7246",
   "metadata": {},
   "source": [
    "通道分离与合并"
   ]
  },
  {
   "cell_type": "code",
   "execution_count": 9,
   "id": "1a3a9edd",
   "metadata": {},
   "outputs": [],
   "source": [
    "b,g,r = cv2.split(img)                 #将图像通道分离,返回值为BGR格式的数组\n",
    "cv2.imshow('b', b)                  \n",
    "cv2.imshow('g', g)\n",
    "cv2.imshow('r', r)\n",
    "\n",
    "img_merged = cv2.merge((r, g, b))      #将图像通道按bgr的顺序合并,返回值为BGR格式的数组\n",
    "cv2.imshow('img_merged', img_merged)\n",
    "cv2.waitKey(0)                    \n",
    "cv2.destroyAllWindows()            "
   ]
  },
  {
   "cell_type": "markdown",
   "id": "44e041be",
   "metadata": {},
   "source": [
    "图片缩放、旋转、平移、镜像翻转"
   ]
  },
  {
   "cell_type": "code",
   "execution_count": null,
   "id": "eb983057",
   "metadata": {},
   "outputs": [],
   "source": [
    "cv2.imshow('img', img)\n",
    "img_resized = cv2.resize(img, (500, 500))                                                                    #将图像缩放为500x500,返回值为缩放后的图像数组\n",
    "cv2.imshow('img_resized', img_resized)                                                                  \n",
    "\n",
    "img_rotated = cv2.rotate(img, cv2.ROTATE_90_CLOCKWISE)                                                       #将图像顺时针旋转90度,返回值为旋转后的图像数组\n",
    "cv2.imshow('img_rotated', img_rotated)                                                                  \n",
    "\n",
    "img_flipped = cv2.flip(img, 1)                                                                               #将图像水平翻转,返回值为翻转后的图像数组\n",
    "cv2.imshow('img_flipped', img_flipped) \n",
    "\n",
    "img_translated = cv2.warpAffine(img, np.float32([[1, 0, 100],\n",
    "                                                 [0, 1, 100]]), \n",
    "                                                (img.shape[1], img.shape[0]))                                #将图像平移100像素,返回值为平移后的图像数组\n",
    "cv2.imshow('img_translated', img_translated) \n",
    "\n",
    "\n",
    "cv2.waitKey(0)                    \n",
    "cv2.destroyAllWindows()            "
   ]
  },
  {
   "cell_type": "markdown",
   "id": "73a0fbb7",
   "metadata": {},
   "source": [
    "仿射变换和透视变换"
   ]
  },
  {
   "cell_type": "code",
   "execution_count": null,
   "id": "e8bc32f7",
   "metadata": {},
   "outputs": [
    {
     "name": "stdout",
     "output_type": "stream",
     "text": [
      "[[ 1.54117647e+00  1.22352941e+00 -1.25882353e+02]\n",
      " [-4.17647059e-01  2.44117647e+00  2.23529412e+01]\n",
      " [-1.17647059e-04  4.82352941e-03  1.00000000e+00]]\n"
     ]
    }
   ],
   "source": [
    "#仿射变换\n",
    "pts1 = np.float32([[0, 0], [img.shape[1]-1, 0], [0, img.shape[0]-1]])                                                    #原始图像的三个点,分别对应图像的左上角，右上角，左下角\n",
    "pts2 = np.float32([[0, 0], [int(0.6*(img.shape[1]-1)), int(0.2*img.shape[0])], [int(0.2*img.shape[1]), int(0.7*(img.shape[0]-1))]])      #目标图像的三个点,分别对应图像的左上角，右上角，左下角\n",
    "M = cv2.getAffineTransform(pts1, pts2)                                                         #获取仿射变换矩阵,参数为原始图像的三个点和目标图像的三个点,返回值为3x2的变换矩阵\n",
    "img_affine = cv2.warpAffine(img, M, (img.shape[1], img.shape[0]))                                              #将图像进行仿射变换,参数为原始图像,变换矩阵,目标图像的大小,返回值为变换后的图像\n",
    "cv2.imshow('img_affine', img_affine)\n",
    "\n",
    "#透视变换\n",
    "pts1 = np.float32([[50, 50], [200, 50], [50, 200], [200, 200]])\n",
    "pts2 = np.float32([[10, 100], [200, 50], [100, 250], [220, 220]])\n",
    "M = cv2.getPerspectiveTransform(pts1, pts2)\n",
    "img_perspective = cv2.warpPerspective(img, M, (img.shape[1], img.shape[0]))                                              #将图像进行透视变换,参数为原始图像,变换矩阵,目标图像的大小,返回值为变换后的图像\n",
    "cv2.imshow('img_perspective', img_perspective)\n",
    "\n",
    "\n",
    "cv2.waitKey(0)                    \n",
    "cv2.destroyAllWindows()            "
   ]
  },
  {
   "cell_type": "markdown",
   "id": "506fe636",
   "metadata": {},
   "source": [
    "3.图像算术运算"
   ]
  },
  {
   "cell_type": "markdown",
   "id": "6b5bb081",
   "metadata": {},
   "source": [
    "图像基本运算：加减乘除法"
   ]
  },
  {
   "cell_type": "code",
   "execution_count": 5,
   "id": "625f78e1",
   "metadata": {},
   "outputs": [],
   "source": [
    "gege1 = cv2.imread('gege1.jpg')\n",
    "gege2 = cv2.imread('gege2.jpg')\n",
    "gege1 = cv2.resize(gege1, (gege2.shape[1], gege2.shape[0]))\n",
    "\n",
    "img_add = cv2.add(gege1, gege2)                 #直接相加，超过255的部分取255\n",
    "cv2.imshow('img_add', img_add)\n",
    "\n",
    "img_sub = cv2.subtract(gege1, gege2)            #直接相减，低于0的部分取0\n",
    "cv2.imshow('img_sub', img_sub)\n",
    "\n",
    "img_mul = cv2.multiply(gege1, gege2)            #直接相乘\n",
    "cv2.imshow('img_mul', img_mul)\n",
    "\n",
    "img_div = cv2.divide(gege1, gege2)              #直接相除，低于0的部分取0\n",
    "cv2.imshow('img_div', img_div)\n",
    "\n",
    "cv2.waitKey(0)\n",
    "cv2.destroyAllWindows()"
   ]
  },
  {
   "cell_type": "markdown",
   "id": "89943bd8",
   "metadata": {},
   "source": [
    "图像位运算：与、或、非、异或"
   ]
  },
  {
   "cell_type": "code",
   "execution_count": 28,
   "id": "aa02a461",
   "metadata": {},
   "outputs": [
    {
     "name": "stdout",
     "output_type": "stream",
     "text": [
      "与运算结果: 0\n",
      "或运算结果: 255\n",
      "非运算结果: 0\n",
      "异或运算结果: 255\n"
     ]
    }
   ],
   "source": [
    "h,w = img.shape[:2]\n",
    "one = np.ones((h, w), dtype=np.uint8)*255\n",
    "zero = np.zeros((h, w), dtype=np.uint8)\n",
    "zero[100:200, 100:200] = np.ones((100, 100), dtype=np.uint8)*100\n",
    "\n",
    "#掩码操作、图像分割\n",
    "img_and = cv2.bitwise_and(one, zero) # 与运算，只有当两个像素值都为1时，结果才为1\n",
    "cv2.imshow('img_and', img_and)\n",
    "print(\"与运算结果:\",img_and[0,0])\n",
    "\n",
    "#图像叠加\n",
    "img_or = cv2.bitwise_or(one, zero) # 或运算，只要有一个像素值为1，结果就为1\n",
    "cv2.imshow('img_or', img_or)\n",
    "print(\"或运算结果:\",img_or[0,0])\n",
    "\n",
    "#图像反色\n",
    "img_not = cv2.bitwise_not(one) # 非运算，将像素值为1的部分变为0，0的部分变为1\n",
    "cv2.imshow('img_not', img_not)\n",
    "print(\"非运算结果:\",img_not[0,0])\n",
    "\n",
    "\n",
    "#图像差异检测\n",
    "img_xor = cv2.bitwise_xor(one, zero) # 异或运算，只有当两个像素值不同时，结果才为1\n",
    "cv2.imshow('img_xor', img_xor)\n",
    "print(\"异或运算结果:\",img_xor[0,0])\n",
    "\n",
    "\n",
    "\n",
    "cv2.waitKey(0)\n",
    "cv2.destroyAllWindows()\n"
   ]
  },
  {
   "cell_type": "markdown",
   "id": "8a555515",
   "metadata": {},
   "source": [
    "图像混合"
   ]
  },
  {
   "cell_type": "code",
   "execution_count": 6,
   "id": "32e86f44",
   "metadata": {},
   "outputs": [],
   "source": [
    "wight1 = 0.5\n",
    "wight2 = 0.5\n",
    "\n",
    "img_addweight = cv2.addWeighted(gege1, wight1, gege2, wight2, 0)\n",
    "\n",
    "cv2.imshow('img_addweight', img_addweight)\n",
    "cv2.waitKey(0)\n",
    "cv2.destroyAllWindows()"
   ]
  },
  {
   "cell_type": "markdown",
   "id": "7e2cabc0",
   "metadata": {},
   "source": [
    "4.图像阈值化"
   ]
  }
 ],
 "metadata": {
  "kernelspec": {
   "display_name": "py39",
   "language": "python",
   "name": "python3"
  },
  "language_info": {
   "codemirror_mode": {
    "name": "ipython",
    "version": 3
   },
   "file_extension": ".py",
   "mimetype": "text/x-python",
   "name": "python",
   "nbconvert_exporter": "python",
   "pygments_lexer": "ipython3",
   "version": "3.9.23"
  }
 },
 "nbformat": 4,
 "nbformat_minor": 5
}
