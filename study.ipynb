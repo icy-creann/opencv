{
 "cells": [
  {
   "cell_type": "markdown",
   "id": "d96e9adb",
   "metadata": {},
   "source": [
    "0. 导入常用的几个库"
   ]
  },
  {
   "cell_type": "code",
   "execution_count": 23,
   "id": "14ed1e6a",
   "metadata": {},
   "outputs": [],
   "source": [
    "import cv2\n",
    "import numpy as np\n",
    "import matplotlib.pyplot as plt\n",
    "\n",
    "img = cv2.imread('lena.jpg')"
   ]
  },
  {
   "cell_type": "markdown",
   "id": "213056b7",
   "metadata": {},
   "source": [
    "1. 图像处理基本操作\n",
    "cv2.imread()该函数读取图片;\n",
    "cv2.namedWindow()该函数创建一个指定名称的窗口;\n",
    "cv2.imshow()该函数显示图片;\n",
    "cv2.waitKey()该函数等待用户按键，参数为等待时间，单位为毫秒，0表示无限等待;\n",
    "cv2.destroyWindow()该函数关闭指定窗口;\n",
    "cv2.destroyAllWindows()该函数关闭所有窗口;\n",
    "cv2.imwrite()该函数保存图片;\n"
   ]
  },
  {
   "cell_type": "code",
   "execution_count": null,
   "id": "ab68a7a5",
   "metadata": {},
   "outputs": [],
   "source": [
    "img = cv2.imread('lena.jpg')#读取图像\n",
    "cv2.namedWindow('image')#创建窗口\n",
    "cv2.imshow('image', img)#显示图像\n",
    "cv2.waitKey(0)#等待用户按键\n",
    "# cv2.destroyWindow('image')#销毁窗口\n",
    "cv2.imwrite('lena.png', img)#保存图像\n"
   ]
  },
  {
   "cell_type": "markdown",
   "id": "894f41bc",
   "metadata": {},
   "source": [
    "2. 图像像素处理基础"
   ]
  },
  {
   "cell_type": "code",
   "execution_count": null,
   "id": "f9e023fc",
   "metadata": {},
   "outputs": [],
   "source": [
    "img = cv2.imread('lena.jpg')\n",
    "#色彩空间转换（常用）\n",
    "#灰度图像\n",
    "gray = cv2.cvtColor(img, cv2.COLOR_BGR2GRAY)#将图像转换为灰度图像\n",
    "\n",
    "#二值图像\n",
    "ret, binary = cv2.threshold(gray, 127, 255, cv2.THRESH_BINARY)#将灰度图像转换为二值图像\n",
    "\n",
    "#彩色图像\n",
    "color = img.copy()#复制图像，避免修改原始图像\n",
    "\n",
    "#roi区域\n",
    "roi = img[100:500, 100:475]#裁剪图像的一部分\n",
    "\n",
    "cv2.namedWindow('color')\n",
    "cv2.imshow('color', color)\n",
    "cv2.namedWindow('gray')\n",
    "cv2.imshow('gray', gray)\n",
    "cv2.namedWindow('binary')\n",
    "cv2.imshow('binary', binary)\n",
    "cv2.namedWindow('roi')\n",
    "cv2.imshow('roi', roi)\n",
    "cv2.waitKey(0)\n",
    "cv2.destroyAllWindows()\n",
    "\n",
    "#获取图像属性\n",
    "print('图像形状：', img.shape)\n",
    "print('图像大小：', img.size)\n",
    "print('图像数据类型：', img.dtype)"
   ]
  },
  {
   "cell_type": "markdown",
   "id": "0674ec7b",
   "metadata": {},
   "source": [
    "3. 图像运算\n",
    "包括图像加法、图像加权和、按位逻辑运算、掩膜（重点）、图像与数值的运算、位平面分解、图像加密和解密（略）、数字水印（略）"
   ]
  },
  {
   "cell_type": "code",
   "execution_count": null,
   "id": "71773252",
   "metadata": {},
   "outputs": [],
   "source": [
    "#图像通道分离与合并\n",
    "b, g, r = cv2.split(img)#分离图像b,g,r通道\n",
    "img_merged = cv2.merge((b, g, r))#合并图像b,g,r通道\n",
    "cv2.imshow('b', b)\n",
    "cv2.imshow('g', g)\n",
    "cv2.imshow('r', r)\n",
    "cv2.imshow('merged', img_merged)"
   ]
  },
  {
   "cell_type": "code",
   "execution_count": null,
   "id": "aff97df3",
   "metadata": {},
   "outputs": [],
   "source": [
    "#图像通道分离与合并\n",
    "b, g, r = cv2.split(img)\n",
    "img_merged = cv2.merge((b, g, r))\n",
    "\n",
    "#图像加减法()\n",
    "img_add = cv2.add(b, g)#直接相加，超过255的部分取255\n",
    "img_add1 = cv2.add(r,100)#与cv2.add（100，r）相同，将r通道每个像素值增加100\n",
    "cv2.imshow('img_add', img_add)\n",
    "cv2.imshow('img_add1', img_add1)\n",
    "img_addweighted = cv2.addWeighted(b, 0.5, g, 0.5, 0)#按权重相加,参数为图像1，权重1，图像2，权重2，gamma值，gamma值为0表示不改变亮度，大于0表示增加亮度，小于0表示减少亮度\n",
    "cv2.imshow('img_addweighted', img_addweighted)\n",
    "\n",
    "cv2.waitKey(0)\n",
    "cv2.destroyAllWindows()"
   ]
  },
  {
   "cell_type": "code",
   "execution_count": null,
   "id": "4f6dc918",
   "metadata": {},
   "outputs": [],
   "source": [
    "#图像通道分离与合并\n",
    "b, g, r = cv2.split(img)#分离图像b,g,r通道\n",
    "img_merged = cv2.merge((b, g, r))#合并图像b,g,r通道\n",
    "\n",
    "#图像位运算\n",
    "img_and = cv2.bitwise_and(b, g)#按位与运算，只有当两个图像对应像素都为1时，结果才为1\n",
    "cv2.imshow('img_and', img_and)\n",
    "img_or = cv2.bitwise_or(b, g)#按位或运算，只有当两个图像对应像素都为0时，结果才为0\n",
    "cv2.imshow('img_or', img_or)\n",
    "img_not = cv2.bitwise_not(b)#按位非运算，将图像的0像素转换为255，255像素转换为0\n",
    "cv2.imshow('img_not', img_not)\n",
    "\n",
    "cv2.waitKey(0)\n",
    "cv2.destroyAllWindows()"
   ]
  },
  {
   "cell_type": "code",
   "execution_count": null,
   "id": "1d97bdf3",
   "metadata": {},
   "outputs": [],
   "source": [
    "#图像掩膜\n",
    "mask = np.zeros(img.shape[:2], dtype=np.uint8)#创建一个与图像大小相同的黑色掩膜\n",
    "mask[100:500, 100:500] = 255#在掩膜上创建一个白色矩形区域\n",
    "\n",
    "res = cv2.bitwise_and(img, img, mask=mask)#将掩膜应用于图像,参数为图像1，图像2，掩膜，图像1和图像2分别与掩膜进行按位与运算，结果为图像1和图像2的交集\n",
    "cv2.imshow('image', img)\n",
    "cv2.imshow('mask', mask)\n",
    "cv2.imshow('res', res)\n",
    "cv2.waitKey(0)\n",
    "cv2.destroyAllWindows()"
   ]
  },
  {
   "cell_type": "code",
   "execution_count": 24,
   "id": "db08dcf0",
   "metadata": {},
   "outputs": [],
   "source": [
    "#位平面分解,灰度值 = a0*2^0 + a1*2^1 + a2*2^2 + ... + a7*2^7\n",
    "img_gray = cv2.imread('lena.jpg', 0)#以灰度模式读取图像\n",
    "r,c= img_gray.shape#获取图像的行列数\n",
    "x= np.zeros((r,c,8), dtype=np.uint8)#创建一个与图像大小相同的三维数组，用于存储8个位平面\n",
    "for i in range(8):\n",
    "    x[:,:,i]=2**i#创建掩膜，2的i次方，用于提取图像的第i位平面\n",
    "r=np.zeros((r,c,8), dtype=np.uint8)#创建一个与图像大小相同的三维数组，用于存储8个位平面的结果\n",
    "for i in range(8):\n",
    "    r[:,:,i]=cv2.bitwise_and(img_gray, x[:,:,i])#将掩膜应用于图像\n",
    "    mask = r[:,:,i]>0#将结果大于0的部分设为255\n",
    "    r[mask] = 255 #将结果大于0的部分设为255\n",
    "    cv2.imshow(str(i), r[:,:,i]) #显示第i个位平面\n",
    "cv2.imshow('img', img_gray)\n",
    "cv2.waitKey(0)\n",
    "cv2.destroyAllWindows()\n"
   ]
  },
  {
   "cell_type": "markdown",
   "id": "cb464815",
   "metadata": {},
   "source": [
    "4.HSV色彩空间讨论\n",
    "H通道为色相通道，用于表示颜色的基本类型，取值范围为0-180\n",
    "S通道为饱和度通道，用于表示颜色的纯度，取值范围为0-255\n",
    "V通道为亮度通道，用于表示颜色的明暗程度，取值范围为0-255"
   ]
  },
  {
   "cell_type": "code",
   "execution_count": null,
   "id": "8d9db8f3",
   "metadata": {},
   "outputs": [],
   "source": [
    "img_hsv = cv2.cvtColor(img, cv2.COLOR_BGR2HSV)#将图像转换为HSV色彩空间\n",
    "\n",
    "#用inRange函数提取特定颜色，掩盖其他颜色\n",
    "lowerb = np.array([0, 100, 100])#定义HSV空间中红色的下限\n",
    "upperb = np.array([10, 255, 255])#定义HSV空间中红色的上限\n",
    "mask = cv2.inRange(img_hsv, lowerb, upperb)#提取图像中红色部分，生成掩膜\n",
    "res = cv2.bitwise_and(img, img, mask=mask)#将掩膜应用于图像\n",
    "cv2.imshow('image', img)#显示原始图像\n",
    "cv2.imshow('mask', mask)#显示掩膜图像\n",
    "cv2.imshow('res', res)#显示提取结果图像\n",
    "cv2.waitKey(0)\n",
    "cv2.destroyAllWindows()"
   ]
  },
  {
   "cell_type": "markdown",
   "id": "a46a1a85",
   "metadata": {},
   "source": [
    "5.几何变换\n",
    "包括缩放、翻转、仿射变换、透视、重映射等"
   ]
  },
  {
   "cell_type": "code",
   "execution_count": null,
   "id": "4e43669c",
   "metadata": {},
   "outputs": [],
   "source": [
    "#缩放\n",
    "img_resized = cv2.resize(img, (800, 800))#将图像缩放到800x800\n",
    "cv2.imshow('img_resized', img_resized)\n",
    "\n",
    "#翻转\n",
    "img_flipped = cv2.flip(img, 1)#将图像翻转，参数为1表示水平翻转，0表示垂直翻转，-1表示水平垂直翻转\n",
    "cv2.imshow('img_flipped', img_flipped)\n",
    "\n",
    "#旋转\n",
    "img_rotated = cv2.rotate(img, cv2.ROTATE_90_CLOCKWISE)#将图像顺时针旋转90度\n",
    "cv2.imshow('img_rotated', img_rotated)\n",
    "\n",
    "#仿射变换\n",
    "rows, cols = img.shape[:2]\n",
    "pts1 = np.float32([[0, 0], [cols-1, 0], [0, rows-1]])#原始图像的三个点,分别对应图像的左上角，右上角，左下角\n",
    "pts2 = np.float32([[0, 0], [int(0.6*(cols-1)), int(0.2*rows)], [int(0.2*cols), int(0.7*(rows-1))]])#目标图像的三个点,分别对应图像的左上角，右上角，左下角\n",
    "M = cv2.getAffineTransform(pts1, pts2)#获取仿射变换矩阵,参数为原始图像的三个点和目标图像的三个点,返回值为3x2的变换矩阵\n",
    "img_affine = cv2.warpAffine(img, M, (cols, rows))#将图像进行仿射变换,参数为原始图像,变换矩阵,目标图像的大小,返回值为变换后的图像\n",
    "cv2.imshow('img_affine', img_affine)\n",
    "\n",
    "#透视变换\n",
    "pts1 = np.float32([[50, 50], [200, 50], [50, 200], [200, 200]])\n",
    "pts2 = np.float32([[10, 100], [200, 50], [100, 250], [220, 220]])\n",
    "M = cv2.getPerspectiveTransform(pts1, pts2)\n",
    "img_perspective = cv2.warpPerspective(img, M, (cols, rows))\n",
    "cv2.imshow('img_perspective', img_perspective)\n",
    "\n",
    "cv2.imshow('img', img)\n",
    "\n",
    "cv2.waitKey(0)\n",
    "cv2.destroyAllWindows()"
   ]
  }
 ],
 "metadata": {
  "kernelspec": {
   "display_name": "py39",
   "language": "python",
   "name": "python3"
  },
  "language_info": {
   "codemirror_mode": {
    "name": "ipython",
    "version": 3
   },
   "file_extension": ".py",
   "mimetype": "text/x-python",
   "name": "python",
   "nbconvert_exporter": "python",
   "pygments_lexer": "ipython3",
   "version": "3.9.23"
  }
 },
 "nbformat": 4,
 "nbformat_minor": 5
}
